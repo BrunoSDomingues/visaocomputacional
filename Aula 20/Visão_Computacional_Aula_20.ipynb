{
  "nbformat": 4,
  "nbformat_minor": 0,
  "metadata": {
    "colab": {
      "name": "Visão_Computacional_Aula_20.ipynb",
      "provenance": [],
      "collapsed_sections": [],
      "include_colab_link": true
    },
    "kernelspec": {
      "name": "python3",
      "display_name": "Python 3"
    }
  },
  "cells": [
    {
      "cell_type": "markdown",
      "metadata": {
        "id": "view-in-github",
        "colab_type": "text"
      },
      "source": [
        "<a href=\"https://colab.research.google.com/github/lucianosilva-github/visaocomputacional/blob/master/Aula%2020/Visa%CC%83o_Computacional_Aula_20.ipynb\" target=\"_parent\"><img src=\"https://colab.research.google.com/assets/colab-badge.svg\" alt=\"Open In Colab\"/></a>"
      ]
    },
    {
      "cell_type": "markdown",
      "metadata": {
        "id": "nxY7Hh85nCjZ"
      },
      "source": [
        "## **VISÃO COMPUTACIONAL - AULA 20**\n",
        "\n",
        "**Objetivos da aula:**\n",
        "\n",
        "*   revisar os conceitos de Visão Estéreo, Geometria Epipolar, Matriz Fundamental e Matriz Essencial\n",
        "*   introduzir os conceitos de geometria de múltiplas visões, geometria trifocal e tensor trifocal\n",
        "*   praticar com o módulo pymvg\n"
      ]
    }
  ]
}
