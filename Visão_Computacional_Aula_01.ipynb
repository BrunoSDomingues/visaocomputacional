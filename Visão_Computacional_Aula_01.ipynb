{
  "nbformat": 4,
  "nbformat_minor": 0,
  "metadata": {
    "colab": {
      "name": "Visão Computacional - Aula 01.ipynb",
      "provenance": [],
      "collapsed_sections": []
    },
    "kernelspec": {
      "name": "python3",
      "display_name": "Python 3"
    }
  },
  "cells": [
    {
      "cell_type": "markdown",
      "metadata": {
        "id": "nxY7Hh85nCjZ",
        "colab_type": "text"
      },
      "source": [
        "## **VISÃO COMPUTACIONAL - AULA 01**\n",
        "\n",
        "**Objetivos da aula:**\n",
        "\n",
        "*   apreender os diversos métodos de obtenção de imagens/vídeos em OpenCV\n",
        "*   aprender a gravar imagens\n",
        "*   acessar propriedades de imagens\n",
        "*   acessar pixels individuais de imagens e modificá-los\n",
        "*   configurar regiões de interesse (ROI) para processamento\n",
        "*   decompor e fazer junção de canais de imagens\n",
        "\n",
        "\n",
        "\n",
        "\n",
        "\n",
        "\n",
        "\n",
        "\n",
        "\n"
      ]
    },
    {
      "cell_type": "markdown",
      "metadata": {
        "id": "VUio1LF0plTP",
        "colab_type": "text"
      },
      "source": [
        "#### **LEITURA DE UMA IMAGEM**"
      ]
    },
    {
      "cell_type": "code",
      "metadata": {
        "id": "2LEfXMkIPiuA",
        "colab_type": "code",
        "colab": {}
      },
      "source": [
        "import cv2 as cv\n",
        "from google.colab.patches import cv2_imshow\n",
        "import sys\n",
        "\n",
        "img = cv.imread(\"lena.jpg\")\n",
        "if img is None:\n",
        "    sys.exit(\"Could not read the image.\")\n",
        "cv2_imshow(img)"
      ],
      "execution_count": null,
      "outputs": []
    },
    {
      "cell_type": "code",
      "metadata": {
        "id": "gaxQabFceDqp",
        "colab_type": "code",
        "colab": {}
      },
      "source": [
        "# Image transformation from BGR Color Space to Grayscale Space\n",
        "gray_img = cv.cvtColor(img, cv.COLOR_BGR2GRAY)\n",
        "cv2_imshow(gray_img)"
      ],
      "execution_count": null,
      "outputs": []
    },
    {
      "cell_type": "code",
      "metadata": {
        "id": "CI5Pq6rWefgM",
        "colab_type": "code",
        "colab": {}
      },
      "source": [
        "cv.imwrite(\"lena_gray.png\", img)"
      ],
      "execution_count": null,
      "outputs": []
    },
    {
      "cell_type": "markdown",
      "metadata": {
        "id": "LXtGH1qlqCr9",
        "colab_type": "text"
      },
      "source": [
        "### **LEITURA DE VÍDEO**"
      ]
    },
    {
      "cell_type": "code",
      "metadata": {
        "id": "o1887uoBSgXh",
        "colab_type": "code",
        "colab": {}
      },
      "source": [
        "import numpy as np\n",
        "import cv2 as cv\n",
        "from google.colab.patches import cv2_imshow\n",
        "import sys\n",
        "\n",
        "cap = cv.VideoCapture('video.avi')\n",
        "# Show the first 5 video frames\n",
        "for i in range(5):\n",
        "# Se quiser mostrar todos os frames do vídeo, basta usar o loop comentado  \n",
        "# while cap.isOpened():\n",
        "    ret, frame = cap.read()\n",
        "    # if frame is read correctly ret is True\n",
        "    if not ret:\n",
        "        print(\"Can't receive frame (stream end?). Exiting ...\")\n",
        "        break\n",
        "    cv2_imshow(frame)\n",
        "cap.release()"
      ],
      "execution_count": null,
      "outputs": []
    },
    {
      "cell_type": "markdown",
      "metadata": {
        "id": "e151pzumqUtM",
        "colab_type": "text"
      },
      "source": [
        "### **LEITURA DE IMAGENS A PARTIR DE UMA CÂMERA**"
      ]
    },
    {
      "cell_type": "code",
      "metadata": {
        "id": "eHSyeuTxaLhn",
        "colab_type": "code",
        "colab": {}
      },
      "source": [
        "from IPython.display import display, Javascript\n",
        "from google.colab.output import eval_js\n",
        "from base64 import b64decode\n",
        "\n",
        "def take_photo(filename='photo.jpg', quality=0.8):\n",
        "  js = Javascript('''\n",
        "    async function takePhoto(quality) {\n",
        "      const div = document.createElement('div');\n",
        "      const capture = document.createElement('button');\n",
        "      capture.textContent = 'Capture';\n",
        "      div.appendChild(capture);\n",
        "\n",
        "      const video = document.createElement('video');\n",
        "      video.style.display = 'block';\n",
        "      const stream = await navigator.mediaDevices.getUserMedia({video: true});\n",
        "\n",
        "      document.body.appendChild(div);\n",
        "      div.appendChild(video);\n",
        "      video.srcObject = stream;\n",
        "      await video.play();\n",
        "\n",
        "      // Resize the output to fit the video element.\n",
        "      google.colab.output.setIframeHeight(document.documentElement.scrollHeight, true);\n",
        "\n",
        "      // Wait for Capture to be clicked.\n",
        "      await new Promise((resolve) => capture.onclick = resolve);\n",
        "\n",
        "      const canvas = document.createElement('canvas');\n",
        "      canvas.width = video.videoWidth;\n",
        "      canvas.height = video.videoHeight;\n",
        "      canvas.getContext('2d').drawImage(video, 0, 0);\n",
        "      stream.getVideoTracks()[0].stop();\n",
        "      div.remove();\n",
        "      return canvas.toDataURL('image/jpeg', quality);\n",
        "    }\n",
        "    ''')\n",
        "  display(js)\n",
        "  data = eval_js('takePhoto({})'.format(quality))\n",
        "  binary = b64decode(data.split(',')[1])\n",
        "  with open(filename, 'wb') as f:\n",
        "    f.write(binary)\n",
        "  return filename"
      ],
      "execution_count": 5,
      "outputs": []
    },
    {
      "cell_type": "code",
      "metadata": {
        "id": "kwQQlVxGdBeW",
        "colab_type": "code",
        "colab": {}
      },
      "source": [
        "from IPython.display import Image\n",
        "try:\n",
        "  filename = take_photo()\n",
        "  print('Saved to {}'.format(filename))\n",
        "  \n",
        "  # Show the image which was just taken.\n",
        "  display(Image(filename))\n",
        "except Exception as err:\n",
        "  # Errors will be thrown if the user does not have a webcam or if they do not\n",
        "  # grant the page permission to access it.\n",
        "  print(str(err))"
      ],
      "execution_count": null,
      "outputs": []
    },
    {
      "cell_type": "markdown",
      "metadata": {
        "id": "N-KtQw2HhNGz",
        "colab_type": "text"
      },
      "source": [
        "## **============ EXERCÍCIO ===================**\n",
        "\n",
        "Capturar os 10 primeiros frames da sua câmera, convertê-los para níveis de cinza e salvar dez arquivos separados: eu#0.jpg, eu#1.jpg, ..., eu#9.jpg.\n"
      ]
    },
    {
      "cell_type": "code",
      "metadata": {
        "id": "q8Cs-f-ZrJm3",
        "colab_type": "code",
        "colab": {}
      },
      "source": [
        "#sua solução"
      ],
      "execution_count": null,
      "outputs": []
    },
    {
      "cell_type": "markdown",
      "metadata": {
        "id": "nHkcp8ErrKFt",
        "colab_type": "text"
      },
      "source": [
        "### **PROPRIEDADES DE IMAGENS**"
      ]
    },
    {
      "cell_type": "code",
      "metadata": {
        "id": "OEs4otiirKj3",
        "colab_type": "code",
        "colab": {}
      },
      "source": [
        "import cv2 as cv\n",
        "from google.colab.patches import cv2_imshow\n",
        "import sys\n",
        "\n",
        "img = cv.imread(\"lena.jpg\")\n",
        "if img is None:\n",
        "    sys.exit(\"Could not read the image.\")\n",
        "cv2_imshow(img)\n",
        "\n",
        "#It returns a tuple of the number of rows, columns, and channels (if the image is color)\n",
        "print( img.shape )"
      ],
      "execution_count": null,
      "outputs": []
    },
    {
      "cell_type": "markdown",
      "metadata": {
        "id": "-acOy-zDre5g",
        "colab_type": "text"
      },
      "source": [
        "Para acessar o número total de pixels da imagem:"
      ]
    },
    {
      "cell_type": "code",
      "metadata": {
        "id": "RiLQ399-rjzR",
        "colab_type": "code",
        "colab": {}
      },
      "source": [
        "print( img.size,\"pixels\" )"
      ],
      "execution_count": null,
      "outputs": []
    },
    {
      "cell_type": "markdown",
      "metadata": {
        "id": "zzUZh1vhr1TF",
        "colab_type": "text"
      },
      "source": [
        "Pra exibir o tipo de dado usado na representação de cor de cada pixel:\n",
        "\n"
      ]
    },
    {
      "cell_type": "code",
      "metadata": {
        "id": "Ze1bmxRmr9Sn",
        "colab_type": "code",
        "colab": {}
      },
      "source": [
        "print( img.dtype )"
      ],
      "execution_count": null,
      "outputs": []
    },
    {
      "cell_type": "markdown",
      "metadata": {
        "id": "FHULWBxNtMAD",
        "colab_type": "text"
      },
      "source": [
        "### **ACESSO AOS PIXELS DA IMAGEM**\n",
        "\n",
        "Para acessar as informações (cor) de um pixel, usamos uma linha e uma coluna (o canto superior esquerdo é a origem da imagem [0,0]). Se a imagem for colorida (3 canais), o resultado mostra o valor dos canais B,G e R (nesta ordem)."
      ]
    },
    {
      "cell_type": "code",
      "metadata": {
        "id": "u-DrWJXktxgQ",
        "colab_type": "code",
        "colab": {}
      },
      "source": [
        "px = img[100,100]\n",
        "print( px )"
      ],
      "execution_count": null,
      "outputs": []
    },
    {
      "cell_type": "markdown",
      "metadata": {
        "id": "8id6GbdauR3j",
        "colab_type": "text"
      },
      "source": [
        "Para alterar o valor de um pixel, basta indicar sua coordenada (linha,coluna) e atribuir os valores dos canais de cor:"
      ]
    },
    {
      "cell_type": "code",
      "metadata": {
        "id": "g-zhZyc6uSLd",
        "colab_type": "code",
        "colab": {}
      },
      "source": [
        "img[100,100] = [255,255,255]\n",
        "print( img[100,100] )"
      ],
      "execution_count": null,
      "outputs": []
    },
    {
      "cell_type": "markdown",
      "metadata": {
        "id": "k-0BcVg4utp9",
        "colab_type": "text"
      },
      "source": [
        "## **============ EXERCÍCIO ===================**\n",
        "\n",
        "A imagem abaixo está convertida para o espaço de cor de níveis de cinza (cor variando de 0 a 255). Converta esta imagem para preto-e-branco (imagem binária) usando as operações de manipulação de pixel. Se os canais não aparecem, fazemos a suposição que temos apenas um canal de cor."
      ]
    },
    {
      "cell_type": "code",
      "metadata": {
        "id": "LAm1yVZNuuO3",
        "colab_type": "code",
        "colab": {}
      },
      "source": [
        "import cv2 as cv\n",
        "from google.colab.patches import cv2_imshow\n",
        "import sys\n",
        "\n",
        "img = cv.imread(\"lena.jpg\")\n",
        "if img is None:\n",
        "    sys.exit(\"Could not read the image.\")\n",
        "gray_img = cv.cvtColor(img, cv.COLOR_BGR2GRAY)\n",
        "cv2_imshow(gray_img)\n",
        "\n",
        "print( gray_img.shape )"
      ],
      "execution_count": null,
      "outputs": []
    },
    {
      "cell_type": "code",
      "metadata": {
        "id": "8te1PIH_x19T",
        "colab_type": "code",
        "colab": {}
      },
      "source": [
        "#sua solução"
      ],
      "execution_count": 1,
      "outputs": []
    },
    {
      "cell_type": "markdown",
      "metadata": {
        "id": "5bcRYp0dwCzn",
        "colab_type": "text"
      },
      "source": [
        "### **REGION OF INTEREST (ROI)**\n",
        "\n",
        "Em muitos algoritmos de Processamento Digital de Imagens, estamos interssados em somente trabalhar com uma determinada região da imagem, que é chamado região de interesse (ROI). Para definir uma região de interesse, definimos um slice na matriz que representa internamente a imagem."
      ]
    },
    {
      "cell_type": "code",
      "metadata": {
        "id": "DEfndftxwi8l",
        "colab_type": "code",
        "colab": {}
      },
      "source": [
        "import cv2 as cv\n",
        "from google.colab.patches import cv2_imshow\n",
        "import sys\n",
        "\n",
        "img = cv.imread(\"lena.jpg\")\n",
        "if img is None:\n",
        "    sys.exit(\"Could not read the image.\")\n",
        "cv2_imshow(img)\n",
        "roi=img[100:250,50:150]\n",
        "cv2_imshow(roi)\n"
      ],
      "execution_count": null,
      "outputs": []
    },
    {
      "cell_type": "markdown",
      "metadata": {
        "id": "N3XeHQicxz8a",
        "colab_type": "text"
      },
      "source": [
        "## **============ EXERCÍCIO ===================**\n",
        "\n",
        "Definir duas ROIs na imagem anterior, para segmentar os dois olhos da Lena."
      ]
    },
    {
      "cell_type": "code",
      "metadata": {
        "id": "ro8WqCSMyNsH",
        "colab_type": "code",
        "colab": {}
      },
      "source": [
        "#sua solução"
      ],
      "execution_count": null,
      "outputs": []
    },
    {
      "cell_type": "markdown",
      "metadata": {
        "id": "yMh7jAVtyOZP",
        "colab_type": "text"
      },
      "source": [
        "Definir uma ROI qualquer na imagem acima e **copiá-la** para um outro lugar na imagem. "
      ]
    },
    {
      "cell_type": "code",
      "metadata": {
        "id": "TawGuRudyOwa",
        "colab_type": "code",
        "colab": {}
      },
      "source": [
        "#sua solução"
      ],
      "execution_count": null,
      "outputs": []
    },
    {
      "cell_type": "markdown",
      "metadata": {
        "id": "L3Ae4lowzI0n",
        "colab_type": "text"
      },
      "source": [
        "### **DECOMPOSIÇÃO E JUNÇÃO DE CANAIS DE COR**\n",
        "\n",
        "Em muitas situações em Visão Computacional, especialmente para imagens em cores (RGB), podemos querer aplicar procedimentos separados nos canais. A separação (split) e junção (merge) de canais é feita como abaixo."
      ]
    },
    {
      "cell_type": "code",
      "metadata": {
        "id": "3RH77md9z0wI",
        "colab_type": "code",
        "colab": {}
      },
      "source": [
        "import cv2 as cv\n",
        "from google.colab.patches import cv2_imshow\n",
        "import sys\n",
        "\n",
        "img = cv.imread(\"lena.jpg\")\n",
        "if img is None:\n",
        "    sys.exit(\"Could not read the image.\")\n",
        "cv2_imshow(img)\n",
        "b,g,r = cv.split(img)\n",
        "cv2_imshow(b)\n",
        "cv2_imshow(g)\n",
        "cv2_imshow(r)\n",
        "\n",
        "img = cv.merge((b,g,r))\n",
        "\n",
        "cv2_imshow(img)"
      ],
      "execution_count": null,
      "outputs": []
    },
    {
      "cell_type": "markdown",
      "metadata": {
        "id": "G8Wz3dXG3FZB",
        "colab_type": "text"
      },
      "source": [
        "### **============ EXERCÍCIO ===================**\n",
        "\n",
        "A imagem abaixo é uma imagem em níveis de cinza. Construa um programa em OpenCV para colorizar artificialmente esta imagem, gerando uma imagem com três canais de cor B,G e R."
      ]
    },
    {
      "cell_type": "code",
      "metadata": {
        "id": "SY8kNRsp3en5",
        "colab_type": "code",
        "colab": {}
      },
      "source": [
        "import cv2 as cv\n",
        "from google.colab.patches import cv2_imshow\n",
        "import sys\n",
        "\n",
        "img = cv.imread(\"lena.jpg\")\n",
        "if img is None:\n",
        "    sys.exit(\"Could not read the image.\")\n",
        "gray_img = cv.cvtColor(img, cv.COLOR_BGR2GRAY)\n",
        "cv2_imshow(gray_img)\n",
        "\n",
        "#sua solução"
      ],
      "execution_count": null,
      "outputs": []
    }
  ]
}