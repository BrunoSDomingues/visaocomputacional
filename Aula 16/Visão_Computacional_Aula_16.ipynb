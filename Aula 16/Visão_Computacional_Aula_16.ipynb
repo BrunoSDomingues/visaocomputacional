{
  "nbformat": 4,
  "nbformat_minor": 0,
  "metadata": {
    "colab": {
      "name": "Visão_Computacional_Aula_16.ipynb",
      "provenance": [],
      "collapsed_sections": []
    },
    "kernelspec": {
      "name": "python3",
      "display_name": "Python 3"
    }
  },
  "cells": [
    {
      "cell_type": "markdown",
      "metadata": {
        "id": "nxY7Hh85nCjZ"
      },
      "source": [
        "## **VISÃO COMPUTACIONAL - AULA 16**\n",
        "\n",
        "**Objetivos da aula:**\n",
        "\n",
        "*   conhecer o modelo de câmera pinhole\n",
        "*   praticar com calibração de câmeras pinhole com padrão de calibração\n",
        "*   tratar problemas de distorção de imagens para calibração\n",
        "\n"
      ]
    },
    {
      "cell_type": "markdown",
      "metadata": {
        "id": "ODVBfuB66V4y"
      },
      "source": [
        "### **MODELO DE CÂMERA PINHOLE**\n",
        "\n",
        "Um dos elementos centrais no processo de geração de imagens são as câmeras. Imagens percebidas por uma câmera são projeções de objetos 3D no plano da imagem.\n",
        "\n",
        "<img src=\"https://storage.googleapis.com/tensorflow-graphics/notebooks/intrinsics/camera_model.jpg\"> </img>\n",
        "\n",
        "A especificação de uma câmera consiste de parâmetros extrínsecos (posição, ponto focal) e intrínsecos (tamanho do plano de imagem, abertura, distância focal). \n",
        "\n",
        "Uma câmara estenopeica ou câmara pinhole é uma máquina fotográfica sem lente. A designação tem por base o inglês, pin-hole, \"buraco de alfinete\" e é usada para referir a fotografia estenopeica. Este tipo de fotografia é uma prática econômica e simples pois utiliza uma caixa qualquer em que a luz não penetre. A existência de um pequeno furo (do grego stenós, estreito) é o que em português permite designar este tipo de fotografia por fotografia estenopeica.\n",
        "\n",
        "A pinhole consiste numa maneira de ver uma imagem real através de uma câmara escura. De um pequeno orifício onde a luz é captada para dentro da câmara, e sofrendo um movimento de inversão, a imagem é projetada para a parede oposta ao orifício ao contrário. Para produzir uma imagem razoavelmente nítida, a abertura tem que ser um furo pequeno, na ordem de 0,5 mm ou menos. O obturador da câmara pinhole geralmente consiste de uma mão espalmada ou de algum material à prova de luz para cobrir e descobrir o furo. As câmaras pinhole requerem um tempo maior de exposição do que as câmaras convencionais, devido à pequena abertura; os tempos de exposição vão de 5 segundos a muitas horas.\n",
        "\n",
        "<img src=\"https://lhoangan.github.io/assets/images/posts/2018-07-30/pinhole_camera.png\"> </img>\n",
        "\n",
        "A imagem pode ser projetada em uma tela translúcida para visualização em tempo real (popularmente utilizadas para ver eclipses solares), ou pode expor filme ou um dispositivo de carga acoplado (CCD). As câmaras pinhole com CCD são algumas vezes utilizadas em serviço de vigilância, devido a seu tamanho pequeno.\n",
        "\n",
        "Os parâmetros do modelo de câmera pinhole são mostrados  abaixo:\n",
        "\n",
        "<img src=\"https://lhoangan.github.io/assets/images/posts/2018-07-30/camera_model.png\"> </img>\n",
        "\n",
        "Podemos relacionar as coordenadas $(X,Y,Z)$ dos objetos com coordenadas $(u,v)$ na imagem usando a seguinte matriz de projeção:\n",
        "\n",
        "<img src=\"https://visualservoing.files.wordpress.com/2012/04/pinhole-model-formula.jpg\"> </img>\n",
        "\n",
        "Nesta matriz, $(c_{x},c_{y})$ representa o centro do plano da imagem, chamado de centro focal e $(f_{x},f_{y})$ as distâncias focais (normalmente, assumimos que $f_{x}=f_{y}=f$. \n",
        "    \n",
        "       \n",
        "\n",
        "\n",
        "\n",
        "\n",
        "\n",
        "\n",
        "\n",
        "\n"
      ]
    },
    {
      "cell_type": "markdown",
      "metadata": {
        "id": "EDdmgPOBJZk4"
      },
      "source": [
        "#### <b> EXERCÍCIO </b>\n",
        "\n",
        "Suponha uma câmera pinhole posicionada na origem, com foco segundo o eixo z, com distância focal f=2 e centro focal (0,0). Obtenha as coordenadas do pixel no plano da imagem produzidas pelo ponto 3D de coordenadas (3,2,5)."
      ]
    },
    {
      "cell_type": "code",
      "metadata": {
        "id": "Nc1DDOgzKTbn"
      },
      "source": [
        "#implemente seu código aqui"
      ],
      "execution_count": null,
      "outputs": []
    },
    {
      "cell_type": "markdown",
      "metadata": {
        "id": "c8BtQMrIKrnQ"
      },
      "source": [
        "### <b> CALIBRAÇÃO DE CÂMERAS </b>\n",
        "\n",
        "O <b> problema da calibração de câmera 3D </b> consiste em: dadas uma ou mais imagens de uma cena, encontrar o valor das parâmetros da matriz de projeção da câmera $c_{x},c_{y},f_{x},f_{y}$. No processo de calibração, podemos usar uma, duas, três ou mais imagens. \n",
        "\n",
        "Nesta aula, trablharemos apenas com uma imagem para calibração. Para isto, nos orientaremos pelas linhas do tabuleiro, conforme mostrado abaixo:\n",
        "\n",
        "<img src=\"https://opencv-python-tutroals.readthedocs.io/en/latest/_images/calib_radial.jpg\"> </img>\n",
        "\n",
        "Devido à distorção das lentes, as linhas nem sempre estarão \"retas\". Posteriormente, vamos corrigir esta distorção.\n",
        "\n",
        "No código abaixo, vamos identificar 42 (7x6) corners em cada imagem do tabuleiro para usarmos como referência na reconstrução da matriz de câmera.\n"
      ]
    },
    {
      "cell_type": "code",
      "metadata": {
        "id": "CIbidmuyM2H_"
      },
      "source": [
        "import numpy as np\n",
        "import cv2\n",
        "import glob\n",
        "from google.colab.patches import cv2_imshow\n",
        "\n",
        "\n",
        "\n",
        "# pontos 3D (0,0,0), (1,0,0), (2,0,0) ....,(6,5,0)\n",
        "objp = np.zeros((6*7,3), np.float32)\n",
        "objp[:,:2] = np.mgrid[0:7,0:6].T.reshape(-1,2)\n",
        "\n",
        "objpoints = [] # pontos 3D dos objetos\n",
        "imgpoints = [] # pontos 3D das imagens\n",
        "\n",
        "images = glob.glob('*.jpg')\n",
        "\n",
        "for fname in images:\n",
        "    img = cv2.imread(fname)\n",
        "    gray = cv2.cvtColor(img,cv2.COLOR_BGR2GRAY)\n",
        "\n",
        "    # Encontra 42 (7x6) corners no tabuleiro de xadrez\n",
        "    ret, corners = cv2.findChessboardCorners(gray, (7,6),None)\n",
        "\n",
        "    # Caso encontrados, adiciona pontos 3D e 2D nas listas objpoints e imgpoints\n",
        "    # com refinamento da busca\n",
        "    if ret == True:\n",
        "        objpoints.append(objp)\n",
        "        # critério de término de busca\n",
        "        criteria = (cv2.TERM_CRITERIA_EPS + cv2.TERM_CRITERIA_MAX_ITER, 30, 0.001)\n",
        "        corners2 = cv2.cornerSubPix(gray,corners,(11,11),(-1,-1),criteria)\n",
        "        imgpoints.append(corners2)\n",
        "\n",
        "        # Desenha e mostra os corners nas diversas imagens\n",
        "        img = cv2.drawChessboardCorners(img, (7,6), corners2,ret)\n",
        "        cv2_imshow(img)\n",
        "\n"
      ],
      "execution_count": null,
      "outputs": []
    },
    {
      "cell_type": "code",
      "metadata": {
        "id": "qbJXPscVQwTM"
      },
      "source": [
        "_,mtx,_,_,_ = cv2.calibrateCamera(objpoints, imgpoints, gray.shape[::-1],None,None)\n",
        "print('Matriz de câmera:')\n",
        "print(mtx)"
      ],
      "execution_count": null,
      "outputs": []
    },
    {
      "cell_type": "markdown",
      "metadata": {
        "id": "To2AZgndc8g8"
      },
      "source": [
        "#### <b> EXERCÍCIO </b>\n",
        "\n",
        "A partir do resultado de calibração anterior, mostre qual é a distância focal desta câmera e qual é o seu centro óptico."
      ]
    },
    {
      "cell_type": "code",
      "metadata": {
        "id": "G4ASf-AkdLoy"
      },
      "source": [
        "#implemente seu código aqui"
      ],
      "execution_count": null,
      "outputs": []
    },
    {
      "cell_type": "markdown",
      "metadata": {
        "id": "oY30o220f056"
      },
      "source": [
        "#### <b> EXERCÍCIO </b>\n",
        "\n",
        "Na implementação anterior, utilizamos 13 imagens para obter todos os pontos de referência para calibração. Porém, seria possível obter uma estimativa usando apenas uma imagem. Escolha uma das imagens e faça a calibração a partir dela. Compare com o resultado obtido anteriormente. "
      ]
    },
    {
      "cell_type": "code",
      "metadata": {
        "id": "xv67IE3bgL-O"
      },
      "source": [
        "#implemente seu código aqui"
      ],
      "execution_count": null,
      "outputs": []
    },
    {
      "cell_type": "markdown",
      "metadata": {
        "id": "CxNel9ovfe7e"
      },
      "source": [
        "### <b> DISTORÇÃO DAS LENTES </b>"
      ]
    },
    {
      "cell_type": "markdown",
      "metadata": {
        "id": "SOeQeA_-eQrO"
      },
      "source": [
        "O cálculo anterior não levou em conta a distorção provocada pelas lentes da câmera. Abaixo, mostramos novamente o efeito provocado pela distorção das lentes:\n",
        "\n",
        "<img src=\"https://opencv-python-tutroals.readthedocs.io/en/latest/_images/calib_radial.jpg\"> </img>\n",
        "\n",
        "Os coeficiente de distorção podem ser calculados pela fórmula abaixo (3 coeficientes):\n",
        "\n",
        "<img src=\"https://opencv-python-tutroals.readthedocs.io/en/latest/_images/math/fc9f12344ac840bfdcb53f61df91cf853ddd6af8.png\"> </img>\n",
        "\n",
        "\n",
        "\n",
        "Para saber se há distorção, podemos consultar outro parâmetro de retorno da função (dist). A OpenCV trabalha com 5 coeficientes de distroção ao invés de 3."
      ]
    },
    {
      "cell_type": "code",
      "metadata": {
        "id": "jN9F5aBMeqVO",
        "outputId": "283eb635-c65c-4a8c-a836-84fddcdbb8b9",
        "colab": {
          "base_uri": "https://localhost:8080/"
        }
      },
      "source": [
        "_,mtx,dist,_,_ = cv2.calibrateCamera(objpoints, imgpoints, gray.shape[::-1],None,None)\n",
        "print(dist)"
      ],
      "execution_count": 11,
      "outputs": [
        {
          "output_type": "stream",
          "text": [
            "[[-2.92971621e-01  1.07706887e-01  1.31038490e-03 -3.11022977e-05\n",
            "   4.34799142e-02]]\n"
          ],
          "name": "stdout"
        }
      ]
    },
    {
      "cell_type": "markdown",
      "metadata": {
        "id": "6s7bd3nrewU6"
      },
      "source": [
        "Se o vetor de distorção for diferente de zero, podemos corrigir a matriz de câmera utilizando o método getOptimalNewCameraMatrix:"
      ]
    },
    {
      "cell_type": "code",
      "metadata": {
        "id": "akOo_q-sRueU",
        "outputId": "8bf7ea79-b380-499b-b44c-f2dca2aab08b",
        "colab": {
          "base_uri": "https://localhost:8080/"
        }
      },
      "source": [
        "_,mtx,dist,_,_ = cv2.calibrateCamera(objpoints, imgpoints, gray.shape[::-1],None,None)\n",
        "img = cv2.imread('left01.jpg')\n",
        "h, w = img.shape[:2]\n",
        "newcameramtx,roi=cv2.getOptimalNewCameraMatrix(mtx,dist,(w,h),1,(w,h))\n",
        "print(newcameramtx)"
      ],
      "execution_count": 12,
      "outputs": [
        {
          "output_type": "stream",
          "text": [
            "[[458.64099121   0.         343.09157581]\n",
            " [  0.         457.19467163 233.83376475]\n",
            " [  0.           0.           1.        ]]\n"
          ],
          "name": "stdout"
        }
      ]
    },
    {
      "cell_type": "markdown",
      "metadata": {
        "id": "pp5bvMAGfMdu"
      },
      "source": [
        "#### <b> EXERCÍCIO </b>\n",
        "\n",
        "Das treze imagens apresentadas, verifique em qual delas é possível perceber distorção provocada pelas lentes da câmera."
      ]
    },
    {
      "cell_type": "code",
      "metadata": {
        "id": "IIBkgMmBfWPg"
      },
      "source": [
        "#implemente seu código aqui"
      ],
      "execution_count": null,
      "outputs": []
    },
    {
      "cell_type": "markdown",
      "metadata": {
        "id": "C90Do_o6gh9U"
      },
      "source": [
        "### <b> CORREÇÃO DAS IMAGENS COM DISTORÇÃO DE LENTES </b>\n",
        "\n",
        "Uma vez realizada uma calibração ótima, podemos corrigir a distorção de lentes nas imagens, deixando as linhas do tabuleiro \"retas\".\n"
      ]
    },
    {
      "cell_type": "code",
      "metadata": {
        "id": "ZYOn_VLLhVhd"
      },
      "source": [
        "_,mtx,dist,_,_ = cv2.calibrateCamera(objpoints, imgpoints, gray.shape[::-1],None,None)\n",
        "img = cv2.imread('left01.jpg')\n",
        "h, w = img.shape[:2]\n",
        "newcameramtx,roi=cv2.getOptimalNewCameraMatrix(mtx,dist,(w,h),1,(w,h))\n",
        "\n",
        "# corrige distorção\n",
        "imgc = cv2.undistort(img, mtx, dist, None, newcameramtx)\n",
        "\n",
        "# corta a imagem segundo o ROI recebido\n",
        "x,y,w,h = roi\n",
        "imgc = imgc[y:y+h, x:x+w]\n",
        "\n",
        "cv2_imshow(img)\n",
        "cv2_imshow(imgc)\n"
      ],
      "execution_count": null,
      "outputs": []
    },
    {
      "cell_type": "markdown",
      "metadata": {
        "id": "JXLFITyaiUij"
      },
      "source": [
        "#### <b> EXERCÍCIO </b>\n",
        "\n",
        "Corrigir as distorções das treze imagens fornecidas, armazenando-as em disco."
      ]
    },
    {
      "cell_type": "code",
      "metadata": {
        "id": "WhvBS30GigQA"
      },
      "source": [
        "#implemente seu código aqui"
      ],
      "execution_count": null,
      "outputs": []
    },
    {
      "cell_type": "markdown",
      "metadata": {
        "id": "SJbPhT_FlbuG"
      },
      "source": [
        "#### <b> PRÓXIMA AULA </b>\n",
        "\n",
        "Uma vez obtidos os parâmetros da câmera, podemos fazer a reconstrução dos pontos em 3D. Este processo é chamado <b>estimação de pose</b>.\n",
        "\n",
        "<img src=\"https://opencv-python-tutroals.readthedocs.io/en/latest/_images/pose_1.jpg\"> </img>"
      ]
    },
    {
      "cell_type": "markdown",
      "metadata": {
        "id": "sPsTc2FFmB-3"
      },
      "source": [
        "#### <b> PROJETO II - DATA DE ENTREGA: 08 DE DEZEMBRO</b>\n",
        "\n",
        "*   Escolher um problema de interesse em Processamento de Imagens, Reconhecimento de Padrões ou Visão Computacional\n",
        "*   Produzir um notebook Python descrevendo o problema, a solução e resultados de testes\n",
        "*   O que entregar: notebook + imagens utilizadas nas explicações e testes\n",
        "\n"
      ]
    }
  ]
}