{
  "nbformat": 4,
  "nbformat_minor": 0,
  "metadata": {
    "colab": {
      "name": "Visão_Computacional_Aula_21.ipynb",
      "provenance": [],
      "collapsed_sections": [],
      "include_colab_link": true
    },
    "kernelspec": {
      "name": "python3",
      "display_name": "Python 3"
    }
  },
  "cells": [
    {
      "cell_type": "markdown",
      "metadata": {
        "id": "view-in-github",
        "colab_type": "text"
      },
      "source": [
        "<a href=\"https://colab.research.google.com/github/lucianosilva-github/visaocomputacional/blob/master/Aula%2021/Visa%CC%83o_Computacional_Aula_21.ipynb\" target=\"_parent\"><img src=\"https://colab.research.google.com/assets/colab-badge.svg\" alt=\"Open In Colab\"/></a>"
      ]
    },
    {
      "cell_type": "markdown",
      "metadata": {
        "id": "nxY7Hh85nCjZ"
      },
      "source": [
        "## **VISÃO COMPUTACIONAL - AULA 21**\n",
        "\n",
        "**Objetivos da aula:**\n",
        "\n",
        "*   apresentar o conceito de busca por padrões 3D em nuvens de pontos\n",
        "*   apresentar um algoritmo de ICP para fazer busca por registros\n",
        "*   implementar e praticar com algoritm de ICP\n"
      ]
    },
    {
      "cell_type": "markdown",
      "metadata": {
        "id": "RVQVu5VNY52N"
      },
      "source": [
        "## **BUSCA POR PADRÕES 3D EM NUVENS DE PONTOS**\n",
        "\n",
        "A busca semântica em nuvens de pontos é um recurso moderno em Visão Computacional 3D e permite que padrões 3D (também definidos como nuvens de pontos) sejam procurados em outras nuvens de pontos. Abaixo temos um exemplo de padrão (amarelo) sendo procurado em uma nuvem de pontos (azul).\n",
        "\n",
        "<img src=\"https://lh3.googleusercontent.com/proxy/QtWMtYLRDuk9Zzg_J6KyIxcobTZvpsIcIfvUsFbW3WT0q_ikcTGdZbhuanaWbSJJcxKxC5-8swPN-tLpQerAFu0Awdw04c2EDpuDL5xkBg73F_gw-czDue-4SfLxaakXnQWiLj95waYqZA\"> \n",
        "</img>\n",
        "\n",
        "Este procedimento é chamado registro ICP (Iterative Closest Point). Existem diversos algoritmos de registro ICP. Um estudo comparativo bastante completo destes algoritmos pode ser encontrado no artigo abaixo:\n",
        "\n",
        "S. Rusinkiewicz and M. Levoy. **Efficient variants of the ICP algorithm**. In 3-D Digital Imaging and Modeling, 2001.\n",
        "\n",
        "O módulo Open3D possui um suporte bastante efetivo para ICP. Trabalharemos com dois algoritmos de ICP implementandos na Open3D: ICP Ponto-a-Ponto e o ICP Ponto-a-Plano. Para usar estes dois algoritmos, vamos utilizar dois arquivos de nuvens de pontos: um para o espaço de busca e outro para o padrão a ser encontrado."
      ]
    },
    {
      "cell_type": "code",
      "metadata": {
        "id": "HLF_L_3JcyrP"
      },
      "source": [
        "!pip install open3d"
      ],
      "execution_count": null,
      "outputs": []
    },
    {
      "cell_type": "markdown",
      "metadata": {
        "id": "SJVNt5eIgrWU"
      },
      "source": [
        "Abertura e exibição do espaço de busca."
      ]
    },
    {
      "cell_type": "code",
      "metadata": {
        "id": "zE60wyjndZJ4"
      },
      "source": [
        "import open3d as o3d\n",
        "import numpy as np\n",
        "\n",
        "pcdb = o3d.io.read_point_cloud(\"espaco_busca.pcd\")\n",
        "print(pcdb)\n",
        "points=np.asarray(pcdb.points)\n",
        "print(points)\n"
      ],
      "execution_count": null,
      "outputs": []
    },
    {
      "cell_type": "code",
      "metadata": {
        "id": "GD75MeYLm9mX"
      },
      "source": [
        "import plotly.graph_objects as go\n",
        "\n",
        "fig = go.Figure(\n",
        "    data=[\n",
        "        go.Scatter3d(\n",
        "            x=points[:,0], y=points[:,1], z=points[:,2], \n",
        "            mode='markers',\n",
        "            marker=dict(size=1, color=np.asarray(pcd.colors))\n",
        "        )\n",
        "    ],\n",
        "    layout=dict(\n",
        "        scene=dict(\n",
        "            xaxis=dict(visible=False),\n",
        "            yaxis=dict(visible=False),\n",
        "            zaxis=dict(visible=False)\n",
        "        )\n",
        "    )\n",
        ")\n",
        "fig.show()"
      ],
      "execution_count": null,
      "outputs": []
    },
    {
      "cell_type": "markdown",
      "metadata": {
        "id": "L0pH7q7oiH7Q"
      },
      "source": [
        "## **EXERCÍCIO**\n",
        "\n",
        "Leia e visualize a nuvem de pontos bunny.ply:"
      ]
    },
    {
      "cell_type": "code",
      "metadata": {
        "id": "BWxFZ4_MiY2c"
      },
      "source": [
        "#digite sua solução aqui"
      ],
      "execution_count": null,
      "outputs": []
    },
    {
      "cell_type": "markdown",
      "metadata": {
        "id": "D37QHYO6i8bO"
      },
      "source": [
        "## **ESTIMAÇÃO DE MALHA (MESH) DE UMA NUVEM DE PONTOS**\n",
        "\n",
        "Existem diversos algoritmos para reconstruir malhas a partir de nuvens de pontos. Um dos mais simples e utilizados é o algoritmo BPA (Ball-Pivoting Algorithm): \n",
        "\n",
        "*F. Bernardini and J. Mittleman and HRushmeier and C. Silva and G. Taubin: The ball-pivoting algorithm for surface reconstruction, IEEE transactions on visualization and computer graphics, 5(4), 349-359, 1999.*\n",
        "\n",
        "Link para o artigo: https://vgc.poly.edu/~csilva/papers/tvcg99.pdf \n"
      ]
    },
    {
      "cell_type": "markdown",
      "metadata": {
        "id": "rY2f9F19zkto"
      },
      "source": [
        "## **EXERCÍCIO**\n",
        "\n",
        "Ler e explicar como funciona o algoritmo BPA."
      ]
    },
    {
      "cell_type": "code",
      "metadata": {
        "id": "JqV-YazEzrh7"
      },
      "source": [
        "#explique como funciona o algoritmo BPA aqui"
      ],
      "execution_count": null,
      "outputs": []
    },
    {
      "cell_type": "markdown",
      "metadata": {
        "id": "QHrWlfESz9tO"
      },
      "source": [
        "Conforme visto no artigo acima, o algoritmo depende de 4 (quatro) raios, especificados pela lista de raios radii:\n"
      ]
    },
    {
      "cell_type": "code",
      "metadata": {
        "id": "xuwTY0W6qcTr"
      },
      "source": [
        "pcd = o3d.io.read_point_cloud(\"bunny.ply\")\n",
        "pcd.estimate_normals(search_param=o3d.geometry.KDTreeSearchParamHybrid(radius=0.1, max_nn=30))\n",
        "radii = [0.005, 0.01, 0.02, 0.04]\n",
        "mesh = o3d.geometry.TriangleMesh.create_from_point_cloud_ball_pivoting(pcd, o3d.utility.DoubleVector(radii))"
      ],
      "execution_count": null,
      "outputs": []
    },
    {
      "cell_type": "markdown",
      "metadata": {
        "id": "3nYBnlUL0t_5"
      },
      "source": [
        "A partir da malha estimada, estimamos também as normais dos vértices e dos triângulos que compõem a malha:"
      ]
    },
    {
      "cell_type": "code",
      "metadata": {
        "id": "7xbUa3AhrKgv"
      },
      "source": [
        "if not mesh.has_vertex_normals(): \n",
        "  mesh.compute_vertex_normals()\n",
        "if not mesh.has_triangle_normals(): \n",
        "  mesh.compute_triangle_normals()"
      ],
      "execution_count": null,
      "outputs": []
    },
    {
      "cell_type": "markdown",
      "metadata": {
        "id": "HhNYQUt41EQ2"
      },
      "source": [
        "Se a malha não possui cores em suas faces, adicionamos cores artificiais:"
      ]
    },
    {
      "cell_type": "code",
      "metadata": {
        "id": "ArWTDkVDrMUQ"
      },
      "source": [
        "triangles = np.asarray(mesh.triangles)\n",
        "vertices = np.asarray(mesh.vertices)\n",
        "colors = None\n",
        "if mesh.has_triangle_normals():\n",
        "    colors = (0.5, 0.5, 0.5) + np.asarray(mesh.triangle_normals) * 0.5\n",
        "    colors = tuple(map(tuple, colors))\n",
        "else:\n",
        "    colors = (1.0, 0.0, 0.0)"
      ],
      "execution_count": null,
      "outputs": []
    },
    {
      "cell_type": "markdown",
      "metadata": {
        "id": "ZXJSvFqe1Md4"
      },
      "source": [
        "Finalmente podemos desenhar a malha:"
      ]
    },
    {
      "cell_type": "code",
      "metadata": {
        "id": "c2cux8K0rTdu"
      },
      "source": [
        "fig = go.Figure(\n",
        "    data=[\n",
        "        go.Mesh3d(\n",
        "            x=vertices[:,0],\n",
        "            y=vertices[:,1],\n",
        "            z=vertices[:,2],\n",
        "            i=triangles[:,0],\n",
        "            j=triangles[:,1],\n",
        "            k=triangles[:,2],\n",
        "            facecolor=colors,\n",
        "            opacity=0.50)\n",
        "    ],\n",
        "    layout=dict(\n",
        "        scene=dict(\n",
        "            xaxis=dict(visible=False),\n",
        "            yaxis=dict(visible=False),\n",
        "            zaxis=dict(visible=False)\n",
        "        )\n",
        "    )\n",
        ")\n",
        "fig.show()"
      ],
      "execution_count": null,
      "outputs": []
    },
    {
      "cell_type": "markdown",
      "metadata": {
        "id": "MAZUO8bk1h7V"
      },
      "source": [
        "## **EXERCÍCIO**\n",
        "\n",
        "Variar os raios dos quatro círculos e observar a qualidade da reconstrução da malha."
      ]
    },
    {
      "cell_type": "code",
      "metadata": {
        "id": "do9TDiPG1tuJ"
      },
      "source": [
        "#faça seus experimentos aqui"
      ],
      "execution_count": null,
      "outputs": []
    },
    {
      "cell_type": "markdown",
      "metadata": {
        "id": "eMEZvwoP1yqd"
      },
      "source": [
        "## **EXERCÍCIO**\n",
        "\n",
        "Reconstrua a malha da nuvem de pontos points.ply, com diferentes raios do algoritmo BPA."
      ]
    },
    {
      "cell_type": "code",
      "metadata": {
        "id": "NA_oWgTi16Ok"
      },
      "source": [
        "#implementa sua solução aqui"
      ],
      "execution_count": null,
      "outputs": []
    }
  ]
}