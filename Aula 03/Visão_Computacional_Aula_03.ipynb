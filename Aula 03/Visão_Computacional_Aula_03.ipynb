{
  "nbformat": 4,
  "nbformat_minor": 0,
  "metadata": {
    "colab": {
      "name": "Visão_Computacional_Aula_03.ipynb",
      "provenance": [],
      "collapsed_sections": []
    },
    "kernelspec": {
      "name": "python3",
      "display_name": "Python 3"
    }
  },
  "cells": [
    {
      "cell_type": "markdown",
      "metadata": {
        "id": "nxY7Hh85nCjZ",
        "colab_type": "text"
      },
      "source": [
        "## **VISÃO COMPUTACIONAL - AULA 03**\n",
        "\n",
        "**Objetivos da aula:**\n",
        "\n",
        "*   conhecer o problema de intensificação de contraste\n",
        "*   desenvolver solução para o problema de intensificação de contraste baseada em processamento puntual\n",
        "*   conhecer o conceito de histograma de imagens\n",
        "*   aplicar equalização de histogramas para intensificar contraste\n",
        "\n",
        "\n",
        "\n",
        "\n",
        "\n",
        "\n",
        "\n",
        "\n",
        "\n"
      ]
    },
    {
      "cell_type": "markdown",
      "metadata": {
        "id": "1tYB1S0UYz0C",
        "colab_type": "text"
      },
      "source": [
        "## **PROBLEMA DE INTENSIFICAÇÃO DE CONTRASTE**\n",
        "\n",
        "Vamos abrir e analisar visualmente a imagem abaixo... perceptualmente, qual o problema que ela apresenta ?"
      ]
    },
    {
      "cell_type": "code",
      "metadata": {
        "id": "FWVD8KQXTwPc",
        "colab_type": "code",
        "colab": {}
      },
      "source": [
        "import cv2 as cv\n",
        "from google.colab.patches import cv2_imshow\n",
        "import sys\n",
        "\n",
        "img = cv.cvtColor(cv2.imread(\"lenabc.png\"), cv2.COLOR_BGR2GRAY)\n",
        "if img is None:\n",
        "    sys.exit(\"Could not read the image.\")\n",
        "cv2_imshow(img)"
      ],
      "execution_count": null,
      "outputs": []
    },
    {
      "cell_type": "markdown",
      "metadata": {
        "id": "XL9b-JxvUEvR",
        "colab_type": "text"
      },
      "source": [
        "A imagem acima possui um problema comum chamado baixo contraste. Quando isto ocorre, temos uma concentração de cores (no caso acima, níveis de cinza) numa determinada região da imagem. "
      ]
    },
    {
      "cell_type": "markdown",
      "metadata": {
        "id": "Qr4YpV-D_yg1",
        "colab_type": "text"
      },
      "source": [
        "## **EXERCÍCIO**\n",
        "\n",
        "A estratégia básica para intensificar contraste é diminuir esta concentração, aumentando a distância entre as cores dos pixels da imagem. Utilizando o código abaixo, implemente a seguinte estratégia:\n",
        "\n",
        "*   pixels \"escuros\" da imagem devem ficar mais escuros (ex. 20% mais escuros)\n",
        "*   pixels \"claros\" da imagem devem ficar mais claros (ex. 20% mais claros)\n",
        "\n",
        "\n"
      ]
    },
    {
      "cell_type": "code",
      "metadata": {
        "id": "0dcVHoSZAAAU",
        "colab_type": "code",
        "colab": {}
      },
      "source": [
        "import cv2 as cv\n",
        "from google.colab.patches import cv2_imshow\n",
        "import sys\n",
        "\n",
        "img = cv.cvtColor(cv2.imread(\"lenabc.png\"), cv2.COLOR_BGR2GRAY)\n",
        "if img is None:\n",
        "    sys.exit(\"Could not read the image.\")\n",
        "cv2_imshow(img)\n",
        "\n",
        "#implemente sua solução aqui"
      ],
      "execution_count": null,
      "outputs": []
    },
    {
      "cell_type": "markdown",
      "metadata": {
        "id": "75D89PBFWVtn",
        "colab_type": "text"
      },
      "source": [
        "## **HISTOGRAMAS DE IMAGENS**\n",
        "\n",
        "Percebemos que a estratégia anterior não solucinou de maneira adequada o problema da intensificação de contraste, pois estamos aumentando a distância de somente duas classes de cor (\"claro\" e \"escuro\"). Com a utilização do conceito de histograma, vamos conseguir analisar melhor a distribuição de cores e atuar em cima da distribuição de cores para intensificar constraste.\n",
        "\n",
        "Um histograma de cores nos mostra qual é a quantidade de pixels por cada cor. Abaixo, temos um exemplo de como calcular o histograma de cores de uma imagem:"
      ]
    },
    {
      "cell_type": "code",
      "metadata": {
        "id": "g_fpOmSAXa7k",
        "colab_type": "code",
        "colab": {}
      },
      "source": [
        "import cv2\n",
        "from google.colab.patches import cv2_imshow\n",
        "import sys\n",
        "import numpy as np\n",
        "from matplotlib import pyplot as plt\n",
        "%matplotlib inline\n",
        "\n",
        "img = cv2.cvtColor(cv2.imread(\"lenagray.png\"), cv2.COLOR_BGR2GRAY)\n",
        "if img is None:\n",
        "    sys.exit(\"Could not read the image.\")\n",
        "cv2_imshow(img)\n",
        "plt.hist(img.ravel(),bins=256,range=[0,255]) #ravel() transforma a imagem num vetor 1D\n",
        "plt.show()"
      ],
      "execution_count": null,
      "outputs": []
    },
    {
      "cell_type": "markdown",
      "metadata": {
        "id": "yV1JjxgfaVbX",
        "colab_type": "text"
      },
      "source": [
        "## **ANALISANDO A IMAGEM POR HISTOGRAMAS**\n",
        "\n",
        "Quando uma imagem nos parece nítida, possivelmente ela terá uma boa distribuição de cores. "
      ]
    },
    {
      "cell_type": "code",
      "metadata": {
        "id": "TKtzAe40d7H5",
        "colab_type": "code",
        "colab": {}
      },
      "source": [
        "import cv2\n",
        "from google.colab.patches import cv2_imshow\n",
        "import sys\n",
        "import numpy as np\n",
        "from matplotlib import pyplot as plt\n",
        "%matplotlib inline\n",
        "\n",
        "img = cv2.cvtColor(cv2.imread(\"lenagray.png\"), cv2.COLOR_BGR2GRAY)\n",
        "if img is None:\n",
        "    sys.exit(\"Could not read the image.\")\n",
        "cv2_imshow(img)\n",
        "plt.hist(img.ravel(),bins=256,range=[0,255]) #ravel() transforma a imagem num vetor 1D\n",
        "plt.show()"
      ],
      "execution_count": null,
      "outputs": []
    },
    {
      "cell_type": "markdown",
      "metadata": {
        "id": "udUL822md5CR",
        "colab_type": "text"
      },
      "source": [
        "Porém, se usarmos imagens mais claras ou mais escuras, teremos concentrações em determinadas regiões do histograma."
      ]
    },
    {
      "cell_type": "code",
      "metadata": {
        "id": "stk4OnW7cKPz",
        "colab_type": "code",
        "colab": {}
      },
      "source": [
        "import cv2\n",
        "from google.colab.patches import cv2_imshow\n",
        "import sys\n",
        "import numpy as np\n",
        "from matplotlib import pyplot as plt\n",
        "%matplotlib inline\n",
        "\n",
        "img = cv2.cvtColor(cv2.imread(\"lenadark.png\"), cv2.COLOR_BGR2GRAY)\n",
        "if img is None:\n",
        "    sys.exit(\"Could not read the image.\")\n",
        "cv2_imshow(img)\n",
        "plt.hist(img.ravel(),bins=256,range=[0,255]) #ravel() transforma a imagem num vetor 1D\n",
        "plt.show()"
      ],
      "execution_count": null,
      "outputs": []
    },
    {
      "cell_type": "code",
      "metadata": {
        "id": "fvJtTqOJcXkt",
        "colab_type": "code",
        "colab": {}
      },
      "source": [
        "import cv2\n",
        "from google.colab.patches import cv2_imshow\n",
        "import sys\n",
        "import numpy as np\n",
        "from matplotlib import pyplot as plt\n",
        "%matplotlib inline\n",
        "\n",
        "img = cv2.cvtColor(cv2.imread(\"lenabright.png\"), cv2.COLOR_BGR2GRAY)\n",
        "if img is None:\n",
        "    sys.exit(\"Could not read the image.\")\n",
        "cv2_imshow(img)\n",
        "plt.hist(img.ravel(),bins=256,range=[0,255]) #ravel() transforma a imagem num vetor 1D\n",
        "plt.show()"
      ],
      "execution_count": null,
      "outputs": []
    },
    {
      "cell_type": "markdown",
      "metadata": {
        "id": "6kkd22r_f7Ea",
        "colab_type": "text"
      },
      "source": [
        "Voltando ao problema da imagem com baixo contraste, vamos calcular e analisar seu histograma."
      ]
    },
    {
      "cell_type": "code",
      "metadata": {
        "id": "rTMKDhahgDwS",
        "colab_type": "code",
        "colab": {}
      },
      "source": [
        "\n",
        "cv2_imshow(img)import cv2\n",
        "from google.colab.patches import cv2_imshow\n",
        "import sys\n",
        "import numpy as np\n",
        "from matplotlib import pyplot as plt\n",
        "%matplotlib inline\n",
        "\n",
        "img = cv2.cvtColor(cv2.imread(\"lenabc.png\"), cv2.COLOR_BGR2GRAY)\n",
        "if img is None:\n",
        "    sys.exit(\"Could not read the image.\")\n",
        "plt.hist(img.ravel(),bins=256,range=[0,255]) #ravel() transforma a imagem num vetor 1D\n",
        "plt.show()"
      ],
      "execution_count": null,
      "outputs": []
    },
    {
      "cell_type": "markdown",
      "metadata": {
        "id": "IDEYvgYwinVD",
        "colab_type": "text"
      },
      "source": [
        "Observando este histograma, notamos que ele está muito concentrado numa determinada região. O que precisamos fazer é redistribuir melhor estas cores, \"esticando\" horizontalmente o histograma."
      ]
    },
    {
      "cell_type": "code",
      "metadata": {
        "id": "hz3JP_hekgEB",
        "colab_type": "code",
        "colab": {}
      },
      "source": [
        "import cv2\n",
        "from google.colab.patches import cv2_imshow\n",
        "import sys\n",
        "import numpy as np\n",
        "from matplotlib import pyplot as plt\n",
        "%matplotlib inline\n",
        "\n",
        "img = cv2.imread(\"histeq.png\")\n",
        "if img is None:\n",
        "    sys.exit(\"Could not read the image.\")\n",
        "cv2_imshow(img)"
      ],
      "execution_count": null,
      "outputs": []
    },
    {
      "cell_type": "markdown",
      "metadata": {
        "id": "Bix9fDBgoHU_",
        "colab_type": "text"
      },
      "source": [
        "Esta transformação pode ser feita de uma maneira muito simples em OpenCV."
      ]
    },
    {
      "cell_type": "code",
      "metadata": {
        "id": "7kKL77efoTy8",
        "colab_type": "code",
        "colab": {}
      },
      "source": [
        "import cv2\n",
        "from google.colab.patches import cv2_imshow\n",
        "import sys\n",
        "import numpy as np\n",
        "from matplotlib import pyplot as plt\n",
        "%matplotlib inline\n",
        "\n",
        "img = cv2.cvtColor(cv2.imread(\"lenabc.png\"), cv2.COLOR_BGR2GRAY)\n",
        "if img is None:\n",
        "    sys.exit(\"Could not read the image.\")\n",
        "cv2_imshow(img)\n",
        "plt.hist(img.ravel(),bins=256,range=[0,255]) \n",
        "plt.show()\n",
        "\n",
        "imgeq=cv2.equalizeHist(img)\n",
        "cv2_imshow(imgeq)\n",
        "plt.hist(imgeq.ravel(),bins=256,range=[0,255]) \n",
        "plt.show()\n"
      ],
      "execution_count": null,
      "outputs": []
    },
    {
      "cell_type": "markdown",
      "metadata": {
        "id": "9TbnkhJErERq",
        "colab_type": "text"
      },
      "source": [
        "## **DESAFIO**\n",
        "\n",
        "Implementar a equalização de histograma manipulando o próprio histograma. Para isto, usar o algoritmo descrito abaixo (seção implementation).\n",
        "\n",
        "https://en.wikipedia.org/wiki/Histogram_equalization\n",
        "\n",
        "No código fornecido abaixo, hist representa o objeto do histograma. \n",
        "\n",
        "Dica: (1) Calcule primeiro a distribuição de probabilidade acumulada (cdf) do histograma\n",
        "(2) use arrays mascarados do numpy\n",
        "\n"
      ]
    },
    {
      "cell_type": "code",
      "metadata": {
        "id": "e8N6aS8jrfMY",
        "colab_type": "code",
        "colab": {}
      },
      "source": [
        "import cv2\n",
        "from google.colab.patches import cv2_imshow\n",
        "import sys\n",
        "import numpy as np\n",
        "from matplotlib import pyplot as plt\n",
        "%matplotlib inline\n",
        "\n",
        "img = cv2.cvtColor(cv2.imread(\"lenabc.png\"), cv2.COLOR_BGR2GRAY)\n",
        "if img is None:\n",
        "    sys.exit(\"Could not read the image.\")\n",
        "hist,bins = np.histogram(img.flatten(),256,[0,256])\n",
        "\n",
        "#seu código começa aqui"
      ],
      "execution_count": 44,
      "outputs": []
    }
  ]
}